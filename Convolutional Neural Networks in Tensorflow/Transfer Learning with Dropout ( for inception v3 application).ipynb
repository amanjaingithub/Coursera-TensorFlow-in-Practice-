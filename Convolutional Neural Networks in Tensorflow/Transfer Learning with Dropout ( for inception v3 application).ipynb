{
 "cells": [
  {
   "cell_type": "markdown",
   "metadata": {},
   "source": [
    "download the weights using\n",
    "\n",
    "https://storage.googleapis.com/mledu-datasets/inception_v3_weights_tf_dim_ordering_tf_kernels_notop.h5"
   ]
  },
  {
   "cell_type": "markdown",
   "metadata": {},
   "source": [
    "# Without Using Dropout"
   ]
  },
  {
   "cell_type": "code",
   "execution_count": 1,
   "metadata": {},
   "outputs": [
    {
     "name": "stdout",
     "output_type": "stream",
     "text": [
      "last layer output shape:  (None, 7, 7, 768)\n"
     ]
    }
   ],
   "source": [
    "import os\n",
    "\n",
    "from tensorflow.keras import layers, Model\n",
    "\n",
    "from tensorflow.keras.applications.inception_v3 import InceptionV3\n",
    "\n",
    "\n",
    "local_weight_file = ('inception_v3_weights_tf_dim_ordering_tf_kernels_notop.h5')\n",
    "\n",
    "pre_trained_model = InceptionV3(input_shape = (150,150,3),\n",
    "                               include_top = False,\n",
    "                               weights =None)\n",
    "\n",
    "pre_trained_model.load_weights(local_weight_file)\n",
    "\n",
    "# pre_trained_model.summary()\n",
    "\n",
    "for layer in pre_trained_model.layers:\n",
    "    layer.trainable = False\n",
    "    \n",
    "last_layer = pre_trained_model.get_layer('mixed7')\n",
    "print(\"last layer output shape: \", last_layer.output_shape)\n",
    "last_output = last_layer.output"
   ]
  },
  {
   "cell_type": "code",
   "execution_count": 2,
   "metadata": {},
   "outputs": [],
   "source": [
    "from tensorflow.keras.optimizers import RMSprop\n",
    "\n",
    "# Flatten the output layer to 1 dimension\n",
    "x = layers.Flatten()(last_output)\n",
    "\n",
    "# Add a fully connected layer with 1,024 hidden units and ReLU activation\n",
    "x = layers.Dense(1024, activation='relu')(x)\n",
    "\n",
    "# Add a final sigmoid layer for classification\n",
    "x = layers.Dense(1, activation='sigmoid')(x)\n",
    "\n",
    "model = Model(pre_trained_model.input, x)\n",
    "\n",
    "model.compile(optimizer =RMSprop(lr =0.0001),\n",
    "             loss= 'binary_crossentropy',\n",
    "             metrics = ['accuracy'])\n"
   ]
  },
  {
   "cell_type": "code",
   "execution_count": 3,
   "metadata": {},
   "outputs": [],
   "source": [
    "#model.summary()"
   ]
  },
  {
   "cell_type": "code",
   "execution_count": 4,
   "metadata": {},
   "outputs": [
    {
     "name": "stdout",
     "output_type": "stream",
     "text": [
      "Found 2000 images belonging to 2 classes.\n",
      "Found 1000 images belonging to 2 classes.\n"
     ]
    }
   ],
   "source": [
    "from tensorflow.keras.preprocessing.image import ImageDataGenerator\n",
    "\n",
    "import os\n",
    "import zipfile\n",
    "\n",
    "local_zip = 'cats_and_dogs_filtered.zip'\n",
    "\n",
    "zip_ref = zipfile.ZipFile(local_zip, 'r')\n",
    "\n",
    "zip_ref.extractall('/tmp')\n",
    "zip_ref.close()\n",
    "\n",
    "# Define our example directories and files\n",
    "base_dir = '/tmp/cats_and_dogs_filtered'\n",
    "\n",
    "train_dir = os.path.join( base_dir, 'train')\n",
    "validation_dir = os.path.join( base_dir, 'validation')\n",
    "\n",
    "\n",
    "train_cats_dir = os.path.join(train_dir, 'cats') # Directory with our training cat pictures\n",
    "train_dogs_dir = os.path.join(train_dir, 'dogs') # Directory with our training dog pictures\n",
    "validation_cats_dir = os.path.join(validation_dir, 'cats') # Directory with our validation cat pictures\n",
    "validation_dogs_dir = os.path.join(validation_dir, 'dogs')# Directory with our validation dog pictures\n",
    "\n",
    "train_cat_fnames = os.listdir(train_cats_dir)\n",
    "train_dog_fnames = os.listdir(train_dogs_dir)\n",
    "\n",
    "# Add our data-augmentation parameters to ImageDataGenerator\n",
    "train_datagen = ImageDataGenerator(rescale = 1./255.,\n",
    "                                   rotation_range = 40,\n",
    "                                   width_shift_range = 0.2,\n",
    "                                   height_shift_range = 0.2,\n",
    "                                   shear_range = 0.2,\n",
    "                                   zoom_range = 0.2,\n",
    "                                   horizontal_flip = True)\n",
    "\n",
    "# Note that the validation data should not be augmented!\n",
    "test_datagen = ImageDataGenerator( rescale = 1.0/255. )\n",
    "\n",
    "# Flow training images in batches of 20 using train_datagen generator\n",
    "train_generator = train_datagen.flow_from_directory(train_dir,\n",
    "                                                    batch_size = 20,\n",
    "                                                    class_mode = 'binary', \n",
    "                                                    target_size = (150, 150))     \n",
    "\n",
    "# Flow validation images in batches of 20 using test_datagen generator\n",
    "validation_generator =  test_datagen.flow_from_directory( validation_dir,\n",
    "                                                          batch_size  = 20,\n",
    "                                                          class_mode  = 'binary', \n",
    "                                                          target_size = (150, 150))"
   ]
  },
  {
   "cell_type": "code",
   "execution_count": 5,
   "metadata": {},
   "outputs": [
    {
     "name": "stdout",
     "output_type": "stream",
     "text": [
      "WARNING:tensorflow:sample_weight modes were coerced from\n",
      "  ...\n",
      "    to  \n",
      "  ['...']\n",
      "WARNING:tensorflow:sample_weight modes were coerced from\n",
      "  ...\n",
      "    to  \n",
      "  ['...']\n",
      "Train for 100 steps, validate for 50 steps\n",
      "Epoch 1/20\n",
      "100/100 - 68s - loss: 0.4931 - accuracy: 0.7710 - val_loss: 0.2686 - val_accuracy: 0.9100\n",
      "Epoch 2/20\n",
      "100/100 - 67s - loss: 0.3580 - accuracy: 0.8435 - val_loss: 0.2607 - val_accuracy: 0.9330\n",
      "Epoch 3/20\n",
      "100/100 - 67s - loss: 0.3328 - accuracy: 0.8555 - val_loss: 0.2472 - val_accuracy: 0.9450\n",
      "Epoch 4/20\n",
      "100/100 - 67s - loss: 0.3019 - accuracy: 0.8720 - val_loss: 0.6017 - val_accuracy: 0.9170\n",
      "Epoch 5/20\n",
      "100/100 - 67s - loss: 0.2722 - accuracy: 0.8855 - val_loss: 0.3403 - val_accuracy: 0.9460\n",
      "Epoch 6/20\n",
      "100/100 - 68s - loss: 0.2838 - accuracy: 0.8805 - val_loss: 0.6272 - val_accuracy: 0.9280\n",
      "Epoch 7/20\n",
      "100/100 - 67s - loss: 0.2845 - accuracy: 0.8830 - val_loss: 0.3389 - val_accuracy: 0.9540\n",
      "Epoch 8/20\n",
      "100/100 - 67s - loss: 0.2632 - accuracy: 0.8965 - val_loss: 0.3633 - val_accuracy: 0.9540\n",
      "Epoch 9/20\n",
      "100/100 - 67s - loss: 0.2496 - accuracy: 0.8915 - val_loss: 0.3297 - val_accuracy: 0.9610\n",
      "Epoch 10/20\n",
      "100/100 - 67s - loss: 0.2567 - accuracy: 0.9035 - val_loss: 0.3157 - val_accuracy: 0.9550\n",
      "Epoch 11/20\n",
      "100/100 - 68s - loss: 0.2730 - accuracy: 0.8870 - val_loss: 0.3559 - val_accuracy: 0.9580\n",
      "Epoch 12/20\n",
      "100/100 - 67s - loss: 0.2490 - accuracy: 0.9010 - val_loss: 0.3877 - val_accuracy: 0.9520\n",
      "Epoch 13/20\n",
      "100/100 - 69s - loss: 0.2400 - accuracy: 0.9050 - val_loss: 0.6192 - val_accuracy: 0.9410\n",
      "Epoch 14/20\n",
      "100/100 - 72s - loss: 0.2361 - accuracy: 0.9135 - val_loss: 0.5297 - val_accuracy: 0.9490\n",
      "Epoch 15/20\n",
      "100/100 - 68s - loss: 0.2478 - accuracy: 0.9020 - val_loss: 0.4915 - val_accuracy: 0.9500\n",
      "Epoch 16/20\n",
      "100/100 - 70s - loss: 0.2050 - accuracy: 0.9180 - val_loss: 0.4075 - val_accuracy: 0.9560\n",
      "Epoch 17/20\n",
      "100/100 - 68s - loss: 0.2134 - accuracy: 0.9180 - val_loss: 0.3849 - val_accuracy: 0.9610\n",
      "Epoch 18/20\n",
      "100/100 - 69s - loss: 0.2301 - accuracy: 0.9120 - val_loss: 0.4040 - val_accuracy: 0.9590\n",
      "Epoch 19/20\n",
      "100/100 - 71s - loss: 0.2273 - accuracy: 0.9150 - val_loss: 0.4184 - val_accuracy: 0.9620\n",
      "Epoch 20/20\n",
      "100/100 - 70s - loss: 0.2145 - accuracy: 0.9175 - val_loss: 0.5130 - val_accuracy: 0.9530\n"
     ]
    }
   ],
   "source": [
    "history = model.fit(\n",
    "            train_generator,\n",
    "            validation_data = validation_generator,\n",
    "            steps_per_epoch = 100,\n",
    "            epochs = 20,\n",
    "            validation_steps = 50,\n",
    "            verbose = 2)"
   ]
  },
  {
   "cell_type": "code",
   "execution_count": null,
   "metadata": {},
   "outputs": [],
   "source": [
    "%matplotlib inline\n",
    "import matplotlib.pyplot as plt\n",
    "acc = history.history['accuracy']\n",
    "val_acc = history.history['val_accuracy']\n",
    "loss = history.history['loss']\n",
    "val_loss = history.history['val_loss']\n",
    "\n",
    "epochs = range(len(acc))\n",
    "\n",
    "plt.plot(epochs, acc, 'r', label='Training accuracy')\n",
    "plt.plot(epochs, val_acc, 'b', label='Validation accuracy')\n",
    "plt.title('Training and validation accuracy')\n",
    "plt.legend(loc=0)\n",
    "plt.figure()\n",
    "\n",
    "\n",
    "plt.show()"
   ]
  },
  {
   "cell_type": "markdown",
   "metadata": {},
   "source": [
    "# With Dropout"
   ]
  },
  {
   "cell_type": "code",
   "execution_count": 7,
   "metadata": {},
   "outputs": [
    {
     "name": "stdout",
     "output_type": "stream",
     "text": [
      "last layer output shape:  (None, 7, 7, 768)\n"
     ]
    }
   ],
   "source": [
    "import os\n",
    "\n",
    "from tensorflow.keras import layers, Model\n",
    "\n",
    "from tensorflow.keras.applications.inception_v3 import InceptionV3\n",
    "\n",
    "\n",
    "local_weight_file = ('inception_v3_weights_tf_dim_ordering_tf_kernels_notop.h5')\n",
    "\n",
    "pre_trained_model = InceptionV3(input_shape = (150,150,3),\n",
    "                               include_top = False,\n",
    "                               weights =None)\n",
    "\n",
    "pre_trained_model.load_weights(local_weight_file)\n",
    "# pre_trained_model.summary()\n",
    "\n",
    "for layer in pre_trained_model.layers:\n",
    "    layer.trainable = False\n",
    "    \n",
    "last_layer = pre_trained_model.get_layer('mixed7')\n",
    "print(\"last layer output shape: \", last_layer.output_shape)\n",
    "last_output = last_layer.output"
   ]
  },
  {
   "cell_type": "code",
   "execution_count": 8,
   "metadata": {},
   "outputs": [],
   "source": [
    "from tensorflow.keras.optimizers import RMSprop\n",
    "\n",
    "# Flatten the output layer to 1 dimension\n",
    "x = layers.Flatten()(last_output)\n",
    "\n",
    "# Add a fully connected layer with 1,024 hidden units and ReLU activation\n",
    "x = layers.Dense(1024, activation='relu')(x)\n",
    "\n",
    "# Add a dropout rate of 0.2\n",
    "x = layers.Dropout(0.2)(x)\n",
    "\n",
    "# Add a final sigmoid layer for classification\n",
    "x = layers.Dense(1, activation='sigmoid')(x)\n",
    "\n",
    "model = Model(pre_trained_model.input, x)\n",
    "\n",
    "model.compile(optimizer =RMSprop(lr =0.0001),\n",
    "             loss= 'binary_crossentropy',\n",
    "             metrics = ['accuracy'])\n",
    "\n"
   ]
  },
  {
   "cell_type": "code",
   "execution_count": 9,
   "metadata": {},
   "outputs": [
    {
     "name": "stdout",
     "output_type": "stream",
     "text": [
      "Found 2000 images belonging to 2 classes.\n",
      "Found 1000 images belonging to 2 classes.\n"
     ]
    }
   ],
   "source": [
    "from tensorflow.keras.preprocessing.image import ImageDataGenerator\n",
    "\n",
    "import os\n",
    "import zipfile\n",
    "\n",
    "local_zip = 'cats_and_dogs_filtered.zip'\n",
    "\n",
    "zip_ref = zipfile.ZipFile(local_zip, 'r')\n",
    "\n",
    "zip_ref.extractall('/tmp')\n",
    "zip_ref.close()\n",
    "\n",
    "# Define our example directories and files\n",
    "base_dir = '/tmp/cats_and_dogs_filtered'\n",
    "\n",
    "train_dir = os.path.join( base_dir, 'train')\n",
    "validation_dir = os.path.join( base_dir, 'validation')\n",
    "\n",
    "\n",
    "train_cats_dir = os.path.join(train_dir, 'cats') # Directory with our training cat pictures\n",
    "train_dogs_dir = os.path.join(train_dir, 'dogs') # Directory with our training dog pictures\n",
    "validation_cats_dir = os.path.join(validation_dir, 'cats') # Directory with our validation cat pictures\n",
    "validation_dogs_dir = os.path.join(validation_dir, 'dogs')# Directory with our validation dog pictures\n",
    "\n",
    "train_cat_fnames = os.listdir(train_cats_dir)\n",
    "train_dog_fnames = os.listdir(train_dogs_dir)\n",
    "\n",
    "# Add our data-augmentation parameters to ImageDataGenerator\n",
    "train_datagen = ImageDataGenerator(rescale = 1./255.,\n",
    "                                   rotation_range = 40,\n",
    "                                   width_shift_range = 0.2,\n",
    "                                   height_shift_range = 0.2,\n",
    "                                   shear_range = 0.2,\n",
    "                                   zoom_range = 0.2,\n",
    "                                   horizontal_flip = True)\n",
    "\n",
    "# Note that the validation data should not be augmented!\n",
    "test_datagen = ImageDataGenerator( rescale = 1.0/255. )\n",
    "\n",
    "# Flow training images in batches of 20 using train_datagen generator\n",
    "train_generator = train_datagen.flow_from_directory(train_dir,\n",
    "                                                    batch_size = 20,\n",
    "                                                    class_mode = 'binary', \n",
    "                                                    target_size = (150, 150))     \n",
    "\n",
    "# Flow validation images in batches of 20 using test_datagen generator\n",
    "validation_generator =  test_datagen.flow_from_directory( validation_dir,\n",
    "                                                          batch_size  = 20,\n",
    "                                                          class_mode  = 'binary', \n",
    "                                                          target_size = (150, 150))"
   ]
  },
  {
   "cell_type": "code",
   "execution_count": null,
   "metadata": {},
   "outputs": [
    {
     "name": "stdout",
     "output_type": "stream",
     "text": [
      "WARNING:tensorflow:sample_weight modes were coerced from\n",
      "  ...\n",
      "    to  \n",
      "  ['...']\n",
      "WARNING:tensorflow:sample_weight modes were coerced from\n",
      "  ...\n",
      "    to  \n",
      "  ['...']\n",
      "Train for 100 steps, validate for 50 steps\n",
      "Epoch 1/20\n",
      "100/100 - 72s - loss: 0.5173 - accuracy: 0.7645 - val_loss: 0.2412 - val_accuracy: 0.9260\n",
      "Epoch 2/20\n",
      "100/100 - 70s - loss: 0.3759 - accuracy: 0.8295 - val_loss: 0.2465 - val_accuracy: 0.9350\n",
      "Epoch 3/20\n",
      "100/100 - 73s - loss: 0.3456 - accuracy: 0.8410 - val_loss: 0.2787 - val_accuracy: 0.9370\n",
      "Epoch 4/20\n",
      "100/100 - 72s - loss: 0.3295 - accuracy: 0.8525 - val_loss: 0.2582 - val_accuracy: 0.9560\n",
      "Epoch 5/20\n",
      "100/100 - 70s - loss: 0.2948 - accuracy: 0.8715 - val_loss: 0.3334 - val_accuracy: 0.9430\n",
      "Epoch 6/20\n",
      "100/100 - 69s - loss: 0.3176 - accuracy: 0.8665 - val_loss: 0.3211 - val_accuracy: 0.9460\n",
      "Epoch 7/20\n",
      "100/100 - 71s - loss: 0.2874 - accuracy: 0.8820 - val_loss: 0.3348 - val_accuracy: 0.9490\n",
      "Epoch 8/20\n",
      "100/100 - 69s - loss: 0.3008 - accuracy: 0.8810 - val_loss: 0.2996 - val_accuracy: 0.9520\n",
      "Epoch 9/20\n",
      "100/100 - 71s - loss: 0.2663 - accuracy: 0.8940 - val_loss: 0.4419 - val_accuracy: 0.9420\n",
      "Epoch 10/20\n",
      "100/100 - 70s - loss: 0.2830 - accuracy: 0.8835 - val_loss: 0.2764 - val_accuracy: 0.9610\n",
      "Epoch 11/20\n",
      "100/100 - 69s - loss: 0.2666 - accuracy: 0.8975 - val_loss: 0.3439 - val_accuracy: 0.9540\n",
      "Epoch 12/20\n",
      "100/100 - 69s - loss: 0.2759 - accuracy: 0.8920 - val_loss: 0.3316 - val_accuracy: 0.9570\n",
      "Epoch 13/20\n",
      "100/100 - 69s - loss: 0.2484 - accuracy: 0.9015 - val_loss: 0.4235 - val_accuracy: 0.9500\n",
      "Epoch 14/20\n",
      "100/100 - 69s - loss: 0.2387 - accuracy: 0.9115 - val_loss: 0.3219 - val_accuracy: 0.9610\n",
      "Epoch 15/20\n",
      "100/100 - 70s - loss: 0.2549 - accuracy: 0.9010 - val_loss: 0.4083 - val_accuracy: 0.9530\n",
      "Epoch 16/20\n",
      "100/100 - 71s - loss: 0.2522 - accuracy: 0.9075 - val_loss: 0.3426 - val_accuracy: 0.9640\n",
      "Epoch 17/20\n",
      "100/100 - 69s - loss: 0.2441 - accuracy: 0.9075 - val_loss: 0.3681 - val_accuracy: 0.9560\n",
      "Epoch 18/20\n",
      "100/100 - 69s - loss: 0.2289 - accuracy: 0.9100 - val_loss: 0.3417 - val_accuracy: 0.9600\n",
      "Epoch 19/20\n",
      "100/100 - 70s - loss: 0.2456 - accuracy: 0.8990 - val_loss: 0.3840 - val_accuracy: 0.9560\n",
      "Epoch 20/20\n"
     ]
    }
   ],
   "source": [
    "history = model.fit(\n",
    "            train_generator,\n",
    "            validation_data = validation_generator,\n",
    "            steps_per_epoch = 100,\n",
    "            epochs = 20,\n",
    "            validation_steps = 50,\n",
    "            verbose = 2)"
   ]
  },
  {
   "cell_type": "code",
   "execution_count": null,
   "metadata": {},
   "outputs": [],
   "source": [
    "import matplotlib.pyplot as plt\n",
    "acc = history.history['accuracy']\n",
    "val_acc = history.history['val_accuracy']\n",
    "loss = history.history['loss']\n",
    "val_loss = history.history['val_loss']\n",
    "\n",
    "epochs = range(len(acc))\n",
    "\n",
    "plt.plot(epochs, acc, 'r', label='Training accuracy')\n",
    "plt.plot(epochs, val_acc, 'b', label='Validation accuracy')\n",
    "plt.title('Training and validation accuracy')\n",
    "plt.legend(loc=0)\n",
    "plt.figure()\n",
    "\n",
    "\n",
    "plt.show()"
   ]
  },
  {
   "cell_type": "code",
   "execution_count": null,
   "metadata": {},
   "outputs": [],
   "source": []
  }
 ],
 "metadata": {
  "kernelspec": {
   "display_name": "Python 3",
   "language": "python",
   "name": "python3"
  },
  "language_info": {
   "codemirror_mode": {
    "name": "ipython",
    "version": 3
   },
   "file_extension": ".py",
   "mimetype": "text/x-python",
   "name": "python",
   "nbconvert_exporter": "python",
   "pygments_lexer": "ipython3",
   "version": "3.7.3"
  }
 },
 "nbformat": 4,
 "nbformat_minor": 2
}
