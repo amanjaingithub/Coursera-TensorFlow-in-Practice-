{
 "cells": [
  {
   "cell_type": "code",
   "execution_count": 36,
   "metadata": {},
   "outputs": [],
   "source": [
    "import tensorflow as tf\n",
    "import os\n",
    "import zipfile\n",
    "from os import path, getcwd, chdir\n",
    "\n",
    "# DO NOT CHANGE THE LINE BELOW. If you are developing in a local\n",
    "# environment, then grab happy-or-sad.zip from the Coursera Jupyter Notebook\n",
    "# and place it inside a local folder and edit the path to that location\n",
    "\n",
    "zip_ref = zipfile.ZipFile('happy-or-sad.zip', 'r')\n",
    "zip_ref.extractall(\"h-or-s\")\n",
    "zip_ref.close()"
   ]
  },
  {
   "cell_type": "code",
   "execution_count": 52,
   "metadata": {},
   "outputs": [],
   "source": [
    "# GRADED FUNCTION: train_happy_sad_model\n",
    "def train_happy_sad_model():\n",
    "    # Please write your code only where you are indicated.\n",
    "    # please do not remove # model fitting inline comments.\n",
    "\n",
    "    DESIRED_ACCURACY = 0.999\n",
    "\n",
    "    class myCallback(tf.keras.callbacks.Callback):\n",
    "         def on_epoch_end(self, epoch , logs={}):\n",
    "                if(logs.get('accuracy') >= DESIRED_ACCURACY):\n",
    "                    self.model.stop_training = True\n",
    "                    print(\"Reached 99.9% accuracy so cancelling training!\")\n",
    "    \n",
    "    callbacks = myCallback()\n",
    "    \n",
    "    # This Code Block should Define and Compile the Model. Please assume the images are 150 X 150 in your implementation.\n",
    "    model = tf.keras.models.Sequential([tf.keras.layers.Conv2D(16,(3,3),activation='relu',input_shape = (150,150,3)),\n",
    "                                        tf.keras.layers.MaxPooling2D(2,2),\n",
    "                                        tf.keras.layers.Conv2D(32,(3,3),activation='relu'),\n",
    "                                        tf.keras.layers.MaxPooling2D(2,2),\n",
    "                                        tf.keras.layers.Conv2D(32,(3,3),activation='relu'),\n",
    "                                        tf.keras.layers.MaxPooling2D(2,2),\n",
    "                                        tf.keras.layers.Flatten(),\n",
    "                                        tf.keras.layers.Dense(512,activation='relu'),\n",
    "                                        tf.keras.layers.Dense(1,activation='sigmoid')\n",
    "        # Your Code Here\n",
    "    ])\n",
    "\n",
    "    from tensorflow.keras.optimizers import RMSprop\n",
    "\n",
    "    model.compile(loss = 'binary_crossentropy', optimizer=RMSprop(lr=0.001), metrics=['accuracy'])\n",
    "        \n",
    "\n",
    "    # This code block should create an instance of an ImageDataGenerator called train_datagen \n",
    "    # And a train_generator by calling train_datagen.flow_from_directory\n",
    "\n",
    "    from tensorflow.keras.preprocessing.image import ImageDataGenerator\n",
    "\n",
    "    train_datagen = ImageDataGenerator(rescale = 1/255)\n",
    "\n",
    "    # Please use a target_size of 150 X 150.\n",
    "    train_generator = train_datagen.flow_from_directory('h-or-s/',\n",
    "                                                        target_size=(150,150),\n",
    "                                                        batch_size=10,\n",
    "                                                        class_mode = 'binary')\n",
    "    # Expected output: 'Found 80 images belonging to 2 classes'\n",
    "\n",
    "    # This code block should call model.fit_generator and train for\n",
    "    # a number of epochs.\n",
    "    # model fitting\n",
    "    history = model.fit_generator(train_generator,steps_per_epoch = 8, epochs = 20, verbose =1, callbacks=[callbacks])\n",
    "    return history.history['accuracy'][-1]"
   ]
  },
  {
   "cell_type": "code",
   "execution_count": 53,
   "metadata": {},
   "outputs": [
    {
     "name": "stdout",
     "output_type": "stream",
     "text": [
      "Found 80 images belonging to 2 classes.\n",
      "WARNING:tensorflow:sample_weight modes were coerced from\n",
      "  ...\n",
      "    to  \n",
      "  ['...']\n",
      "Train for 8 steps\n",
      "Epoch 1/20\n",
      "8/8 [==============================] - 1s 162ms/step - loss: 2.2126 - accuracy: 0.5250\n",
      "Epoch 2/20\n",
      "8/8 [==============================] - 1s 92ms/step - loss: 0.6814 - accuracy: 0.6000\n",
      "Epoch 3/20\n",
      "8/8 [==============================] - 1s 86ms/step - loss: 0.4539 - accuracy: 0.9000\n",
      "Epoch 4/20\n",
      "8/8 [==============================] - 1s 87ms/step - loss: 0.2538 - accuracy: 0.9250\n",
      "Epoch 5/20\n",
      "8/8 [==============================] - 1s 89ms/step - loss: 0.2635 - accuracy: 0.9000\n",
      "Epoch 6/20\n",
      "8/8 [==============================] - 1s 88ms/step - loss: 0.0712 - accuracy: 0.9750\n",
      "Epoch 7/20\n",
      "8/8 [==============================] - 1s 89ms/step - loss: 0.1438 - accuracy: 0.9250\n",
      "Epoch 8/20\n",
      "8/8 [==============================] - 1s 88ms/step - loss: 0.0706 - accuracy: 0.9625\n",
      "Epoch 9/20\n",
      "7/8 [=========================>....] - ETA: 0s - loss: 0.0146 - accuracy: 1.0000Reached 99.9% accuracy so cancelling training!\n",
      "8/8 [==============================] - 1s 86ms/step - loss: 0.0136 - accuracy: 1.0000\n"
     ]
    },
    {
     "data": {
      "text/plain": [
       "1.0"
      ]
     },
     "execution_count": 53,
     "metadata": {},
     "output_type": "execute_result"
    }
   ],
   "source": [
    "# The Expected output: \"Reached 99.9% accuracy so cancelling training!\"\"\n",
    "train_happy_sad_model()"
   ]
  },
  {
   "cell_type": "code",
   "execution_count": null,
   "metadata": {},
   "outputs": [],
   "source": []
  }
 ],
 "metadata": {
  "kernelspec": {
   "display_name": "Python 3",
   "language": "python",
   "name": "python3"
  },
  "language_info": {
   "codemirror_mode": {
    "name": "ipython",
    "version": 3
   },
   "file_extension": ".py",
   "mimetype": "text/x-python",
   "name": "python",
   "nbconvert_exporter": "python",
   "pygments_lexer": "ipython3",
   "version": "3.7.3"
  }
 },
 "nbformat": 4,
 "nbformat_minor": 2
}
