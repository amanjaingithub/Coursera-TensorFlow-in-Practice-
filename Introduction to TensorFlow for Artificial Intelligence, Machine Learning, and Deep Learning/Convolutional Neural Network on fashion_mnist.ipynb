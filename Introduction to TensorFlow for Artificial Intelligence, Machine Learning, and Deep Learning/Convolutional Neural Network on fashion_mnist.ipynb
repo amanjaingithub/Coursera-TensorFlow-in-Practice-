{
 "cells": [
  {
   "cell_type": "code",
   "execution_count": 28,
   "metadata": {},
   "outputs": [],
   "source": [
    "import tensorflow as tf\n",
    "from keras.models import Sequential\n",
    "from keras.layers import Dense, Flatten, Conv2D, MaxPooling2D"
   ]
  },
  {
   "cell_type": "markdown",
   "metadata": {},
   "source": [
    "## Using DNN"
   ]
  },
  {
   "cell_type": "code",
   "execution_count": 29,
   "metadata": {},
   "outputs": [],
   "source": [
    "mnist = tf.keras.datasets.fashion_mnist"
   ]
  },
  {
   "cell_type": "code",
   "execution_count": 30,
   "metadata": {},
   "outputs": [],
   "source": [
    "(training_images, training_labels), (test_images, test_labels) = mnist.load_data()"
   ]
  },
  {
   "cell_type": "code",
   "execution_count": 31,
   "metadata": {},
   "outputs": [],
   "source": [
    "training_images = training_images/255.0\n",
    "test_images = test_images/255.0"
   ]
  },
  {
   "cell_type": "code",
   "execution_count": 32,
   "metadata": {},
   "outputs": [
    {
     "name": "stdout",
     "output_type": "stream",
     "text": [
      "Epoch 1/5\n",
      "60000/60000 [==============================] - 2s 37us/step - loss: 0.5037 - accuracy: 0.8240\n",
      "Epoch 2/5\n",
      "60000/60000 [==============================] - 2s 34us/step - loss: 0.3791 - accuracy: 0.8632\n",
      "Epoch 3/5\n",
      "60000/60000 [==============================] - 2s 37us/step - loss: 0.3377 - accuracy: 0.8771\n",
      "Epoch 4/5\n",
      "60000/60000 [==============================] - 2s 36us/step - loss: 0.3135 - accuracy: 0.8858\n",
      "Epoch 5/5\n",
      "60000/60000 [==============================] - 2s 34us/step - loss: 0.2961 - accuracy: 0.8911\n",
      "10000/10000 [==============================] - 0s 14us/step\n",
      "[0.34750052421092986, 0.8758999705314636]\n"
     ]
    }
   ],
   "source": [
    "model = Sequential([Flatten(),\n",
    "                   Dense(128,activation = tf.nn.relu),\n",
    "                   Dense(10, activation = tf.nn.softmax)])\n",
    "model.compile(optimizer = 'adam', loss = 'sparse_categorical_crossentropy', metrics = ['accuracy'])\n",
    "model.fit(training_images, training_labels, epochs = 5)\n",
    "\n",
    "test_loss = model.evaluate(test_images, test_labels)\n",
    "print(test_loss)"
   ]
  },
  {
   "cell_type": "markdown",
   "metadata": {},
   "source": [
    "## Using CNN"
   ]
  },
  {
   "cell_type": "markdown",
   "metadata": {},
   "source": [
    "Your accuracy is probably about 89% on training and 87% on validation...not bad...But how do you make that even better? One way is to use something called Convolutions. I'm not going to details on Convolutions here, but the ultimate concept is that they narrow down the content of the image to focus on specific, distinct, details.\n",
    "\n",
    "If you've ever done image processing using a filter (like this: https://en.wikipedia.org/wiki/Kernel_(image_processing)) then convolutions will look very familiar.\n",
    "\n",
    "In short, you take an array (usually 3x3 or 5x5) and pass it over the image. By changing the underlying pixels based on the formula within that matrix, you can do things like edge detection. So, for example, if you look at the above link, you'll see a 3x3 that is defined for edge detection where the middle cell is 8, and all of its neighbors are -1. In this case, for each pixel, you would multiply its value by 8, then subtract the value of each neighbor. Do this for every pixel, and you'll end up with a new image that has the edges enhanced.\n",
    "\n",
    "This is perfect for computer vision, because often it's features that can get highlighted like this that distinguish one item for another, and the amount of information needed is then much less...because you'll just train on the highlighted features.\n",
    "\n",
    "That's the concept of Convolutional Neural Networks. Add some layers to do convolution before you have the dense layers, and then the information going to the dense layers is more focussed, and possibly more accurate.\n",
    "\n",
    "Run the below code -- this is the same neural network as earlier, but this time with Convolutional layers added first. It will take longer, but look at the impact on the accuracy:"
   ]
  },
  {
   "cell_type": "markdown",
   "metadata": {},
   "source": [
    "#### Parameters\n",
    "**filters**: Integer, the dimensionality of the output space (i.e. the number of output filters in the convolution).\n",
    "**kernel_size**: An integer or tuple/list of 2 integers, specifying the height and width of the 2D convolution window. Can be a single integer to specify the same value for all spatial dimensions."
   ]
  },
  {
   "cell_type": "code",
   "execution_count": 50,
   "metadata": {},
   "outputs": [
    {
     "name": "stdout",
     "output_type": "stream",
     "text": [
      "Model: \"sequential_16\"\n",
      "_________________________________________________________________\n",
      "Layer (type)                 Output Shape              Param #   \n",
      "=================================================================\n",
      "conv2d_11 (Conv2D)           (None, 26, 26, 64)        640       \n",
      "_________________________________________________________________\n",
      "max_pooling2d_11 (MaxPooling (None, 13, 13, 64)        0         \n",
      "_________________________________________________________________\n",
      "conv2d_12 (Conv2D)           (None, 11, 11, 64)        36928     \n",
      "_________________________________________________________________\n",
      "max_pooling2d_12 (MaxPooling (None, 5, 5, 64)          0         \n",
      "_________________________________________________________________\n",
      "flatten_16 (Flatten)         (None, 1600)              0         \n",
      "_________________________________________________________________\n",
      "dense_31 (Dense)             (None, 128)               204928    \n",
      "_________________________________________________________________\n",
      "dense_32 (Dense)             (None, 10)                1290      \n",
      "=================================================================\n",
      "Total params: 243,786\n",
      "Trainable params: 243,786\n",
      "Non-trainable params: 0\n",
      "_________________________________________________________________\n",
      "Epoch 1/5\n",
      "60000/60000 [==============================] - 37s 615us/step - loss: 0.4411 - accuracy: 0.8406\n",
      "Epoch 2/5\n",
      "60000/60000 [==============================] - 35s 581us/step - loss: 0.2952 - accuracy: 0.8924\n",
      "Epoch 3/5\n",
      "60000/60000 [==============================] - 37s 619us/step - loss: 0.2498 - accuracy: 0.9077\n",
      "Epoch 4/5\n",
      "60000/60000 [==============================] - 37s 614us/step - loss: 0.2172 - accuracy: 0.9186\n",
      "Epoch 5/5\n",
      "60000/60000 [==============================] - 36s 594us/step - loss: 0.1907 - accuracy: 0.9303\n",
      "10000/10000 [==============================] - 1s 93us/sample - loss: 0.2579 - accuracy: 0.9057\n",
      "Test Loss is [0.2578626621961594, 0.9057]\n"
     ]
    }
   ],
   "source": [
    "(training_images, training_labels), (test_images, test_labels) = mnist.load_data()\n",
    "training_images = training_images.reshape(60000,28,28,1)\n",
    "training_images = training_images/255.0\n",
    "test_images = test_images.reshape(10000,28,28,1)\n",
    "test_images = test_images/255.0\n",
    "\n",
    "\n",
    "model2 = Sequential([Conv2D(64,(3,3),activation='relu',input_shape=(28,28,1)),\n",
    "                    MaxPooling2D(2,2),\n",
    "                    Conv2D(64,(3,3),activation='relu'),\n",
    "                    MaxPooling2D(2,2),\n",
    "                    Flatten(),\n",
    "                    Dense(128,activation='relu'),\n",
    "                    Dense(10,activation='softmax')])\n",
    "\n",
    "model2.compile(optimizer = 'adam', loss = \"sparse_categorical_crossentropy\", metrics =['accuracy'])\n",
    "model2.summary()\n",
    "model2.fit(training_images,training_labels, epochs = 5)\n",
    "print(\"Test Loss is {}\".format(model.evaluate(test_images,test_labels)))"
   ]
  },
  {
   "cell_type": "markdown",
   "metadata": {},
   "source": [
    "It's likely gone up to about 93% on the training data and 91% on the validation data.\n",
    "\n",
    "That's significant, and a step in the right direction!\n",
    "\n",
    "Try running it for more epochs -- say about 20, and explore the results! But while the results might seem really good, the validation results may actually go down, due to something called 'overfitting' which will be discussed later.\n",
    "\n",
    "(In a nutshell, 'overfitting' occurs when the network learns the data from the training set really well, but it's too specialised to only that data, and as a result is less effective at seeing other data. For example, if all your life you only saw red shoes, then when you see a red shoe you would be very good at identifying it, but blue suade shoes might confuse you...and you know you should never mess with my blue suede shoes.)\n",
    "\n",
    "Then, look at the code again, and see, step by step how the Convolutions were built:"
   ]
  },
  {
   "cell_type": "markdown",
   "metadata": {},
   "source": [
    "Step 1 is to gather the data. You'll notice that there's a bit of a change here in that the training data needed to be reshaped. That's because the first convolution expects a single tensor containing everything, so instead of 60,000 28x28x1 items in a list, we have a single 4D list that is 60,000x28x28x1, and the same for the test images. If you don't do this, you'll get an error when training as the Convolutions do not recognize the shape."
   ]
  },
  {
   "cell_type": "markdown",
   "metadata": {},
   "source": [
    "Next is to define your model. Now instead of the input layer at the top, you're going to add a Convolution. The parameters are:\n",
    "\n",
    "Conv2D(64,(3,3),activation='relu',input_shape=(28,28,1)\n",
    "\n",
    "The number of convolutions you want to generate. Purely arbitrary, but good to start with something in the order of 32\n",
    "\n",
    "The size of the Convolution, in this case a 3x3 grid\n",
    "\n",
    "The activation function to use -- in this case we'll use relu, which you might recall is the equivalent of returning x when x>0, else returning 0\n",
    "\n",
    "In the first layer, the shape of the input data.\n",
    "\n",
    "You'll follow the Convolution with a MaxPooling layer which is then designed to compress the image, while maintaining the content of the features that were highlighted by the convlution. By specifying (2,2) for the MaxPooling, the effect is to quarter the size of the image. Without going into too much detail here, the idea is that it creates a 2x2 array of pixels, and picks the biggest one, thus turning 4 pixels into 1. It repeats this across the image, and in so doing halves the number of horizontal, and halves the number of vertical pixels, effectively reducing the image by 25%.\n",
    "\n",
    "You can call model.summary() to see the size and shape of the network, and you'll notice that after every MaxPooling layer, the image size is reduced in this way."
   ]
  },
  {
   "cell_type": "markdown",
   "metadata": {},
   "source": [
    "# Visualizing the Convolutions and Pooling\n",
    "\n",
    "This code will show us the convolutions graphically. The print (test_labels[;100]) shows us the first 100 labels in the test set, and you can see that the ones at index 0, index 23 and index 28 are all the same value (9). They're all shoes. Let's take a look at the result of running the convolution on each, and you'll begin to see common features between them emerge. Now, when the DNN is training on that data, it's working with a lot less, and it's perhaps finding a commonality between shoes based on this convolution/pooling combination."
   ]
  },
  {
   "cell_type": "code",
   "execution_count": 52,
   "metadata": {},
   "outputs": [
    {
     "data": {
      "image/png": "[encoded data removed]",
      "text/plain": [
       "<Figure size 432x288 with 12 Axes>"
      ]
     },
     "metadata": {
      "needs_background": "light"
     },
     "output_type": "display_data"
    }
   ],
   "source": [
    "import matplotlib.pyplot as plt\n",
    "f, axarr = plt.subplots(3,4)\n",
    "FIRST_IMAGE=0\n",
    "SECOND_IMAGE=7\n",
    "THIRD_IMAGE=26\n",
    "CONVOLUTION_NUMBER = 1\n",
    "from tensorflow.keras import models\n",
    "layer_outputs = [layer.output for layer in model.layers]\n",
    "activation_model = tf.keras.models.Model(inputs = model.input, outputs = layer_outputs)\n",
    "for x in range(0,4):\n",
    "    f1 = activation_model.predict(test_images[FIRST_IMAGE].reshape(1, 28, 28, 1))[x]\n",
    "    axarr[0,x].imshow(f1[0, : , :, CONVOLUTION_NUMBER], cmap='inferno')\n",
    "    axarr[0,x].grid(False)\n",
    "    f2 = activation_model.predict(test_images[SECOND_IMAGE].reshape(1, 28, 28, 1))[x]\n",
    "    axarr[1,x].imshow(f2[0, : , :, CONVOLUTION_NUMBER], cmap='inferno')  \n",
    "    axarr[1,x].grid(False)\n",
    "    f3 = activation_model.predict(test_images[THIRD_IMAGE].reshape(1, 28, 28, 1))[x]\n",
    "    axarr[2,x].imshow(f3[0, : , :, CONVOLUTION_NUMBER], cmap='inferno')\n",
    "    axarr[2,x].grid(False)"
   ]
  },
  {
   "cell_type": "markdown",
   "metadata": {},
   "source": [
    "EXERCISES\n",
    "\n",
    "1. Try editing the convolutions. Change the 32s to either 16 or 64. What impact will this have on accuracy and/or training time.\n",
    "\n",
    "2. Remove the final Convolution. What impact will this have on accuracy or training time?\n",
    "\n",
    "3. How about adding more Convolutions? What impact do you think this will have? Experiment with it.\n",
    "\n",
    "4. Remove all Convolutions but the first. What impact do you think this will have? Experiment with it. \n",
    "\n",
    "5. In the previous lesson you implemented a callback to check on the loss function and to cancel training once it hit a certain amount. See if you can implement that here!"
   ]
  },
  {
   "cell_type": "code",
   "execution_count": null,
   "metadata": {},
   "outputs": [
    {
     "name": "stdout",
     "output_type": "stream",
     "text": [
      "Model: \"sequential_20\"\n",
      "_________________________________________________________________\n",
      "Layer (type)                 Output Shape              Param #   \n",
      "=================================================================\n",
      "conv2d_19 (Conv2D)           (None, 26, 26, 32)        320       \n",
      "_________________________________________________________________\n",
      "max_pooling2d_19 (MaxPooling (None, 13, 13, 32)        0         \n",
      "_________________________________________________________________\n",
      "flatten_20 (Flatten)         (None, 5408)              0         \n",
      "_________________________________________________________________\n",
      "dense_39 (Dense)             (None, 128)               692352    \n",
      "_________________________________________________________________\n",
      "dense_40 (Dense)             (None, 10)                1290      \n",
      "=================================================================\n",
      "Total params: 693,962\n",
      "Trainable params: 693,962\n",
      "Non-trainable params: 0\n",
      "_________________________________________________________________\n",
      "Epoch 1/10\n",
      "60000/60000 [==============================] - 17s 280us/step - loss: 0.3848 - accuracy: 0.8629\n",
      "Epoch 2/10\n",
      "60000/60000 [==============================] - 16s 266us/step - loss: 0.2615 - accuracy: 0.9052\n",
      "Epoch 3/10\n",
      "60000/60000 [==============================] - 16s 264us/step - loss: 0.2175 - accuracy: 0.9198\n",
      "Epoch 4/10\n",
      "60000/60000 [==============================] - 16s 262us/step - loss: 0.1851 - accuracy: 0.9316\n",
      "Epoch 5/10\n",
      "60000/60000 [==============================] - 16s 261us/step - loss: 0.1581 - accuracy: 0.9412\n",
      "Epoch 6/10\n",
      "60000/60000 [==============================] - 19s 324us/step - loss: 0.1351 - accuracy: 0.9502\n",
      "Epoch 7/10\n",
      "60000/60000 [==============================] - 16s 260us/step - loss: 0.1142 - accuracy: 0.9572\n",
      "Epoch 8/10\n",
      "60000/60000 [==============================] - 17s 283us/step - loss: 0.0969 - accuracy: 0.9645\n",
      "Epoch 9/10\n",
      "60000/60000 [==============================] - 16s 274us/step - loss: 0.0840 - accuracy: 0.9684\n",
      "Epoch 10/10\n",
      "31104/60000 [==============>...............] - ETA: 7s - loss: 0.0676 - accuracy: 0.9754"
     ]
    }
   ],
   "source": [
    "(training_images, training_labels), (test_images, test_labels) = mnist.load_data()\n",
    "training_images = training_images.reshape(60000,28,28,1)\n",
    "training_images = training_images/255.0\n",
    "test_images = test_images.reshape(10000,28,28,1)\n",
    "test_images = test_images/255.0\n",
    "\n",
    "\n",
    "model3 = Sequential([Conv2D(32,(3,3),activation='relu',input_shape=(28,28,1)),\n",
    "                    MaxPooling2D(2,2),\n",
    "                    Flatten(),\n",
    "                    Dense(128,activation='relu'),\n",
    "                    Dense(10,activation='softmax')])\n",
    "\n",
    "model3.compile(optimizer = 'adam', loss = \"sparse_categorical_crossentropy\", metrics =['accuracy'])\n",
    "model3.summary()\n",
    "model3.fit(training_images,training_labels, epochs = 10)\n",
    "print(\"Test Loss is {}\".format(model.evaluate(test_images,test_labels)))"
   ]
  },
  {
   "cell_type": "code",
   "execution_count": null,
   "metadata": {},
   "outputs": [],
   "source": []
  }
 ],
 "metadata": {
  "kernelspec": {
   "display_name": "Python 3",
   "language": "python",
   "name": "python3"
  },
  "language_info": {
   "codemirror_mode": {
    "name": "ipython",
    "version": 3
   },
   "file_extension": ".py",
   "mimetype": "text/x-python",
   "name": "python",
   "nbconvert_exporter": "python",
   "pygments_lexer": "ipython3",
   "version": "3.7.3"
  }
 },
 "nbformat": 4,
 "nbformat_minor": 2
}
